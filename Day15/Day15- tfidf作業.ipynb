{
 "cells": [
  {
   "cell_type": "markdown",
   "metadata": {},
   "source": [
    "## 作業目標：搭建一個TFIDF 模型"
   ]
  },
  {
   "cell_type": "markdown",
   "metadata": {},
   "source": [
    "---"
   ]
  },
  {
   "cell_type": "markdown",
   "metadata": {},
   "source": [
    "#### Reference:https://towardsdatascience.com/natural-language-processing-feature-engineering-using-tf-idf-e8b9d00e7e76"
   ]
  },
  {
   "cell_type": "code",
   "execution_count": 1,
   "metadata": {},
   "outputs": [],
   "source": [
    "import nltk\n",
    "documentA = 'the man went out for a walk'\n",
    "documentB = 'the children sat around the fire'"
   ]
  },
  {
   "cell_type": "markdown",
   "metadata": {},
   "source": [
    "## 首先我們做tokenize，並取出所有文件中的單詞"
   ]
  },
  {
   "cell_type": "code",
   "execution_count": 3,
   "metadata": {},
   "outputs": [
    {
     "name": "stdout",
     "output_type": "stream",
     "text": [
      "tokenize_A:['the', 'man', 'went', 'out', 'for', 'a', 'walk']\n",
      "tokenize_B:['the', 'children', 'sat', 'around', 'the', 'fire']\n",
      "uniqueWords:{'a', 'sat', 'walk', 'out', 'children', 'the', 'went', 'fire', 'for', 'around', 'man'}\n"
     ]
    }
   ],
   "source": [
    "tokenize_A = nltk.word_tokenize(documentA)\n",
    "print(f\"tokenize_A:{tokenize_A}\")\n",
    "tokenize_B = nltk.word_tokenize(documentB)\n",
    "print(f\"tokenize_B:{tokenize_B}\")\n",
    "\n",
    "# setA.union(setB)\n",
    "uniqueWords = set(tokenize_A).union(set(tokenize_B))  # 所有文件中的單詞\n",
    "print(f\"uniqueWords:{uniqueWords}\")"
   ]
  },
  {
   "cell_type": "markdown",
   "metadata": {},
   "source": [
    "## 計算每個文件中，所有uniqueWords出現的次數"
   ]
  },
  {
   "cell_type": "code",
   "execution_count": 5,
   "metadata": {},
   "outputs": [],
   "source": [
    "# dict.fromkeys(keys, value) -> Set all keys to the same initial value\n",
    "numOfWordsA = dict.fromkeys(uniqueWords, 0)\n",
    "for word in tokenize_A:\n",
    "    numOfWordsA[word] += 1\n",
    "numOfWordsB = dict.fromkeys(uniqueWords, 0)\n",
    "for word in tokenize_B:\n",
    "    numOfWordsB[word] += 1"
   ]
  },
  {
   "cell_type": "code",
   "execution_count": 6,
   "metadata": {},
   "outputs": [
    {
     "data": {
      "text/plain": [
       "{'a': 1,\n",
       " 'sat': 0,\n",
       " 'walk': 1,\n",
       " 'out': 1,\n",
       " 'children': 0,\n",
       " 'the': 1,\n",
       " 'went': 1,\n",
       " 'fire': 0,\n",
       " 'for': 1,\n",
       " 'around': 0,\n",
       " 'man': 1}"
      ]
     },
     "execution_count": 6,
     "metadata": {},
     "output_type": "execute_result"
    }
   ],
   "source": [
    "numOfWordsA"
   ]
  },
  {
   "cell_type": "code",
   "execution_count": 7,
   "metadata": {},
   "outputs": [
    {
     "data": {
      "text/plain": [
       "{'a': 0,\n",
       " 'sat': 1,\n",
       " 'walk': 0,\n",
       " 'out': 0,\n",
       " 'children': 1,\n",
       " 'the': 2,\n",
       " 'went': 0,\n",
       " 'fire': 1,\n",
       " 'for': 0,\n",
       " 'around': 1,\n",
       " 'man': 0}"
      ]
     },
     "execution_count": 7,
     "metadata": {},
     "output_type": "execute_result"
    }
   ],
   "source": [
    "numOfWordsB"
   ]
  },
  {
   "cell_type": "markdown",
   "metadata": {},
   "source": [
    "## 定義function:計算TF"
   ]
  },
  {
   "cell_type": "code",
   "execution_count": 8,
   "metadata": {},
   "outputs": [],
   "source": [
    "def computeTF(wordDict, tokenize_item):\n",
    "    \"\"\"\n",
    "    wordDict : 文件內單詞對應出現數量的字典\n",
    "    tokenize_item : 文件tokenize後的輸出\n",
    "    \"\"\"\n",
    "    tfDict = {}\n",
    "    bagOfWordsCount = len(tokenize_item)  ## tokenize_item單詞數量\n",
    "    for word, count in wordDict.items():\n",
    "        tfDict[word] = count / bagOfWordsCount  ##單詞在該文件出現的次數/該文件擁有的所有單詞數量\n",
    "    return tfDict"
   ]
  },
  {
   "cell_type": "markdown",
   "metadata": {},
   "source": [
    "## 定義function:計算IDF"
   ]
  },
  {
   "cell_type": "code",
   "execution_count": 15,
   "metadata": {},
   "outputs": [],
   "source": [
    "def computeIDF(documentsDict):\n",
    "    \"\"\"\n",
    "    documentsDict:為一個list，包含所有文件的wordDict\n",
    "    \"\"\"\n",
    "    import math\n",
    "    N = len(documentsDict)\n",
    "    \n",
    "    idfDict = dict.fromkeys(documentsDict[0].keys(), 0)\n",
    "    for document in documentsDict:\n",
    "        for word, val in document.items():\n",
    "            if val > 0:\n",
    "                idfDict[word] += 1 ## 計算單詞在多少文件中出現過\n",
    "    \n",
    "    for word, val in idfDict.items():\n",
    "        idfDict[word] = math.log(N / val, 2) ## 計算IDF，Log (所有文件的數目/包含這個單詞的文件數目)\n",
    "    return idfDict"
   ]
  },
  {
   "cell_type": "markdown",
   "metadata": {},
   "source": [
    "## 定義function:計算TFIDF"
   ]
  },
  {
   "cell_type": "code",
   "execution_count": 13,
   "metadata": {},
   "outputs": [],
   "source": [
    "def computeTFIDF(tf_item, idfs):\n",
    "    tfidf = {}\n",
    "    for word, val in tf_item.items():\n",
    "        tfidf[word] = val * idfs[word]\n",
    "    return tfidf"
   ]
  },
  {
   "cell_type": "code",
   "execution_count": 16,
   "metadata": {},
   "outputs": [
    {
     "name": "stdout",
     "output_type": "stream",
     "text": [
      "tfidfA:{'a': 0.14285714285714285, 'sat': 0.0, 'walk': 0.14285714285714285, 'out': 0.14285714285714285, 'children': 0.0, 'the': 0.0, 'went': 0.14285714285714285, 'fire': 0.0, 'for': 0.14285714285714285, 'around': 0.0, 'man': 0.14285714285714285}\n",
      "tfidfB:{'a': 0.0, 'sat': 0.16666666666666666, 'walk': 0.0, 'out': 0.0, 'children': 0.16666666666666666, 'the': 0.0, 'went': 0.0, 'fire': 0.16666666666666666, 'for': 0.0, 'around': 0.16666666666666666, 'man': 0.0}\n"
     ]
    }
   ],
   "source": [
    "tfA = computeTF(numOfWordsA, tokenize_A)\n",
    "tfB = computeTF(numOfWordsB, tokenize_B)\n",
    "\n",
    "idfs = computeIDF([numOfWordsA, numOfWordsB])\n",
    "\n",
    "tfidfA = computeTFIDF(tfA, idfs)\n",
    "print(f\"tfidfA:{tfidfA}\")\n",
    "tfidfB = computeTFIDF(tfB, idfs)\n",
    "print(f\"tfidfB:{tfidfB}\")"
   ]
  },
  {
   "cell_type": "code",
   "execution_count": 17,
   "metadata": {},
   "outputs": [
    {
     "data": {
      "text/plain": [
       "{'a': 0.14285714285714285,\n",
       " 'sat': 0.0,\n",
       " 'walk': 0.14285714285714285,\n",
       " 'out': 0.14285714285714285,\n",
       " 'children': 0.0,\n",
       " 'the': 0.0,\n",
       " 'went': 0.14285714285714285,\n",
       " 'fire': 0.0,\n",
       " 'for': 0.14285714285714285,\n",
       " 'around': 0.0,\n",
       " 'man': 0.14285714285714285}"
      ]
     },
     "execution_count": 17,
     "metadata": {},
     "output_type": "execute_result"
    }
   ],
   "source": [
    "tfidfA"
   ]
  },
  {
   "cell_type": "code",
   "execution_count": 18,
   "metadata": {},
   "outputs": [
    {
     "data": {
      "text/plain": [
       "{'a': 0.0,\n",
       " 'sat': 0.16666666666666666,\n",
       " 'walk': 0.0,\n",
       " 'out': 0.0,\n",
       " 'children': 0.16666666666666666,\n",
       " 'the': 0.0,\n",
       " 'went': 0.0,\n",
       " 'fire': 0.16666666666666666,\n",
       " 'for': 0.0,\n",
       " 'around': 0.16666666666666666,\n",
       " 'man': 0.0}"
      ]
     },
     "execution_count": 18,
     "metadata": {},
     "output_type": "execute_result"
    }
   ],
   "source": [
    "tfidfB"
   ]
  },
  {
   "cell_type": "code",
   "execution_count": null,
   "metadata": {},
   "outputs": [],
   "source": []
  }
 ],
 "metadata": {
  "kernelspec": {
   "display_name": "Python 3",
   "language": "python",
   "name": "python3"
  },
  "language_info": {
   "codemirror_mode": {
    "name": "ipython",
    "version": 3
   },
   "file_extension": ".py",
   "mimetype": "text/x-python",
   "name": "python",
   "nbconvert_exporter": "python",
   "pygments_lexer": "ipython3",
   "version": "3.7.3"
  }
 },
 "nbformat": 4,
 "nbformat_minor": 2
}
