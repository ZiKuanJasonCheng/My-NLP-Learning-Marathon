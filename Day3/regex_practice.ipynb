{
 "cells": [
  {
   "cell_type": "code",
   "execution_count": 2,
   "metadata": {},
   "outputs": [
    {
     "data": {
      "text/plain": [
       "['219 23', '  219102e']"
      ]
     },
     "execution_count": 2,
     "metadata": {},
     "output_type": "execute_result"
    }
   ],
   "source": [
    "import re\n",
    "str_data = '219 23\\n  219102e'\n",
    "#pattern = '.*' # All characters or none except \\n\n",
    "pattern = '.+' # All characters except \\n, at least one character\n",
    "re.findall(pattern, str_data)"
   ]
  },
  {
   "cell_type": "code",
   "execution_count": 8,
   "metadata": {},
   "outputs": [
    {
     "data": {
      "text/plain": [
       "['I love cat', 'I love dog']"
      ]
     },
     "execution_count": 8,
     "metadata": {},
     "output_type": "execute_result"
    }
   ],
   "source": [
    "str_data = 'I love cat. I love dog.'\n",
    "pattern = 'I love cat|I love dog' #'I love (cat|dog)'\n",
    "re.findall(pattern, str_data)"
   ]
  },
  {
   "cell_type": "code",
   "execution_count": 10,
   "metadata": {},
   "outputs": [
    {
     "data": {
      "text/plain": [
       "['SaveTheWorld@hotmail.com ', ' foobar@gmail.com ', ' zzzGroup@yahoo.com']"
      ]
     },
     "execution_count": 10,
     "metadata": {},
     "output_type": "execute_result"
    }
   ],
   "source": [
    "###使用前章節的電子郵件配對為例###\n",
    "\n",
    "#欲配對文本\n",
    "txt = \"SaveTheWorld@hotmail.com \\n foobar@gmail.com \\n zzzGroup@yahoo.com\" \n",
    "pattern = r\"\\n\" #這裡改為配對換行符號\n",
    "\n",
    "#進行配對\n",
    "match = re.split(pattern, txt) #設定最多只配對分割一組\n",
    "match"
   ]
  },
  {
   "cell_type": "code",
   "execution_count": 14,
   "metadata": {},
   "outputs": [
    {
     "data": {
      "text/plain": [
       "['Leo', 'kevin']"
      ]
     },
     "execution_count": 14,
     "metadata": {},
     "output_type": "execute_result"
    }
   ],
   "source": [
    "#欲配對文本\n",
    "txt = \"Leo123 \\nkevin456 \\n\"\n",
    "pattern = r\"^[a-zA-Z]+\" #配對所有開頭是a-z或是A-Z的字元\n",
    "\n",
    "#進行配對_1\n",
    "re.findall(pattern, txt, flags=re.M) #使用預設的一般配對模式"
   ]
  }
 ],
 "metadata": {
  "kernelspec": {
   "display_name": "Python 3",
   "language": "python",
   "name": "python3"
  },
  "language_info": {
   "codemirror_mode": {
    "name": "ipython",
    "version": 3
   },
   "file_extension": ".py",
   "mimetype": "text/x-python",
   "name": "python",
   "nbconvert_exporter": "python",
   "pygments_lexer": "ipython3",
   "version": "3.6.9"
  }
 },
 "nbformat": 4,
 "nbformat_minor": 4
}
