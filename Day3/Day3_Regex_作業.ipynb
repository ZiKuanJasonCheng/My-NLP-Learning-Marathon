{
 "cells": [
  {
   "cell_type": "markdown",
   "metadata": {},
   "source": [
    "# 作業目標: 利用正規表達式達到預期配對\n",
    "本次作業將以互動式網站[Regex101](https://regex101.com/)來做練習，請將所需配對文本複製貼上到Regex101的**TEST STRING**區塊來做練習"
   ]
  },
  {
   "cell_type": "markdown",
   "metadata": {},
   "source": [
    "### HW1: 電話號碼配對\n",
    "\n",
    "抓出在電話號碼的所在地區以及號碼\n",
    "\n",
    "```\n",
    "ex: 02-33334444 --> 配對02, 33334444\n",
    "```\n",
    "\n",
    "\n",
    "**所需配對文本:**\n",
    "```\n",
    "02-27208889\n",
    "04-2220-3585\n",
    "(06)-2991111\n",
    "(07)799-5678\n",
    "```\n",
    "\n",
    "**應配對出的結果為**\n",
    "```\n",
    "02, 27208889\n",
    "04, 22203585\n",
    "06, 2991111\n",
    "07, 7995678\n",
    "```"
   ]
  },
  {
   "cell_type": "code",
   "execution_count": 28,
   "metadata": {},
   "outputs": [
    {
     "name": "stdout",
     "output_type": "stream",
     "text": [
      "type(x1): <class '_sre.SRE_Match'>\n",
      "SaveTheWorld@hotmail.com\n",
      "type(x2): <class '_sre.SRE_Match'>\n",
      "SaveTheWorld@hotmail.com\n",
      "--------------------------------------------------\n",
      "pattern_obj: re.compile('\\\\(?\\\\d{2}\\\\)?-?[\\\\d-]+')\n",
      "type(pattern_obj): <class '_sre.SRE_Pattern'>\n",
      "matches: <_sre.SRE_Match object; span=(0, 11), match='02-27208889'>\n",
      "matches.start(): 0\n",
      "matches.end(): 11\n",
      "matches.group(): 02-27208889\n",
      "matches.group(0): 02-27208889\n",
      "--------------------------------------------------\n",
      "matches: ['02-27208889', '04-2220-3585', '(06)-2991111', '(07)799-5678']\n",
      "type(matches): <class 'list'>\n",
      "--------------------------------------------------\n",
      "matches: <callable_iterator object at 0x7fd828f040f0>\n",
      "type(matches): <class 'callable_iterator'>\n",
      "<_sre.SRE_Match object; span=(0, 11), match='02-27208889'>\n",
      "02-27208889\n",
      "<_sre.SRE_Match object; span=(14, 26), match='04-2220-3585'>\n",
      "04-2220-3585\n",
      "<_sre.SRE_Match object; span=(29, 41), match='(06)-2991111'>\n",
      "(06)-2991111\n",
      "<_sre.SRE_Match object; span=(44, 56), match='(07)799-5678'>\n",
      "(07)799-5678\n"
     ]
    }
   ],
   "source": [
    "import re\n",
    "\n",
    "txt = \"SaveTheWorld@hotmail.com \\n foobar@gmail.com\"\n",
    "pattern = r\"(.*)@(?!gmail)\\w+\\.com\"\n",
    "\n",
    "# 建立模式物件\n",
    "pattern_obj = re.compile(pattern=pattern)\n",
    "# 使用pattern_obj.search配對\n",
    "x1 = pattern_obj.search(txt)\n",
    "print(\"type(x1):\", type(x1))\n",
    "print(x1.group())\n",
    "\n",
    "# Or use re.search directly\n",
    "x2 = re.search(pattern, txt)\n",
    "print(\"type(x2):\", type(x2))\n",
    "print(x2.group())\n",
    "\n",
    "print(\"-\"*50)\n",
    "\n",
    "# \\(?\\d{2}\\)?-?[\\d-]+\n",
    "str_no = '02-27208889 \\n 04-2220-3585 \\n (06)-2991111 \\n (07)799-5678'\n",
    "pattern = '\\(?\\d{2}\\)?-?[\\d-]+'\n",
    "\n",
    "pattern_obj = re.compile(pattern=pattern)\n",
    "print(\"pattern_obj:\", pattern_obj)\n",
    "print(\"type(pattern_obj):\", type(pattern_obj))\n",
    "matches = pattern_obj.search(list_no[0])\n",
    "print(\"matches:\", matches)\n",
    "print(\"matches.start():\", matches.start())\n",
    "print(\"matches.end():\", matches.end())\n",
    "print(\"matches.group():\", matches.group())\n",
    "print(\"matches.group(0):\", matches.group(0))\n",
    "#print(\"type(matches.group()):\", type(matches.group()))\n",
    "\n",
    "print(\"-\"*50)\n",
    "\n",
    "# re.findall()\n",
    "matches = re.findall(pattern, str_no)\n",
    "print(\"matches:\", matches)\n",
    "print(\"type(matches):\", type(matches))\n",
    "\n",
    "print(\"-\"*50)\n",
    "\n",
    "# re.finditer()\n",
    "matches = re.finditer(pattern, str_no)\n",
    "print(\"matches:\", matches)\n",
    "print(\"type(matches):\", type(matches))\n",
    "for m in matches:\n",
    "    print(m)\n",
    "    print(m.group())\n"
   ]
  },
  {
   "cell_type": "markdown",
   "metadata": {},
   "source": [
    "### HW2: 身分證字號配對\n",
    "請配對出找出桃園(H), 台南(D), 嘉義(Q)中為男生的身分證字號(數字為1開頭)\n",
    "\n",
    "**所需配對文本:**\n",
    "```\n",
    "A121040176\n",
    "L186856359\n",
    "Z127598010\n",
    "I114537095\n",
    "D279884447\n",
    "L186834359\n",
    "D243736345\n",
    "I114537095\n",
    "Q146110887\n",
    "D187217314\n",
    "I114537095\n",
    "Q243556025\n",
    "Z127598010\n",
    "H250077453\n",
    "Q188367037\n",
    "```\n",
    "\n",
    "**應配對出的結果為**\n",
    "```\n",
    "Q146110887\n",
    "D187217314\n",
    "Q188367037\n",
    "```"
   ]
  },
  {
   "cell_type": "code",
   "execution_count": 39,
   "metadata": {},
   "outputs": [
    {
     "data": {
      "text/plain": [
       "['Q146110887', 'D187217314', 'Q188367037']"
      ]
     },
     "execution_count": 39,
     "metadata": {},
     "output_type": "execute_result"
    }
   ],
   "source": [
    "import re\n",
    "\n",
    "str_data = 'A121040176 L186856359 Z127598010 I114537095 D279884447 L186834359 D243736345 I114537095 Q146110887 \\\n",
    "D187217314 I114537095 Q243556025 Z127598010 H250077453 Q188367037'\n",
    "pattern = '[HDQ]1\\d{8}'\n",
    "\n",
    "re.findall(pattern, str_data)"
   ]
  },
  {
   "cell_type": "markdown",
   "metadata": {},
   "source": [
    "### HW3: 電子郵件配對\n",
    "請抓出非gmail的電子郵件\n",
    "\n",
    "**所需配對文本:**\n",
    "```\n",
    "foobar@gmail.com\n",
    "NoOneCareMe@gmail.com\n",
    "SaveTheWorld@hotmail.com\n",
    "zzzGroup@yahoo.com\n",
    "eagle1963@gmail.com\n",
    "maythefourthwithyiu@starwars.com\n",
    "```\n",
    "\n",
    "**應配對出的結果為**\n",
    "```\n",
    "SaveTheWorld@hotmail.com\n",
    "zzzGroup@yahoo.com\n",
    "maythefourthwithyiu@starwars.com\n",
    "```\n"
   ]
  },
  {
   "cell_type": "code",
   "execution_count": 75,
   "metadata": {},
   "outputs": [
    {
     "data": {
      "text/plain": [
       "['SaveTheWorld@hotmail.com',\n",
       " 'zzzGroup@yahoo.com',\n",
       " 'maythefourthwithyiu@starwars.com']"
      ]
     },
     "execution_count": 75,
     "metadata": {},
     "output_type": "execute_result"
    }
   ],
   "source": [
    "str_data = 'foobar@gmail.com NoOneCareMe@gmail.com SaveTheWorld@hotmail.com zzzGroup@yahoo.com eagle1963@gmail.com maythefourthwithyiu@starwars.com'\n",
    "pattern = '\\S+@(?!gmail)\\w+\\.com'\n",
    "\n",
    "re.findall(pattern, str_data)"
   ]
  },
  {
   "cell_type": "markdown",
   "metadata": {},
   "source": [
    "### HW4: HTML格式配對\n",
    "\n",
    "請抓出<TAG>當中的Tag就好，裡面的屬性請排除。\n",
    "\n",
    "```\n",
    "ex: <p class='test'> --> 抓出 p\n",
    "```\n",
    "\n",
    "**所需配對文本:**\n",
    "```\n",
    "<h1>This is a header 1</h1>\n",
    "<a>This is a hyperlink</a>\n",
    "<div class='test'>This is a text block</div>\n",
    "<a href=\"https://regexisfun.com.tw/\">Learning Regular Expression</a>\n",
    "```\n",
    "\n",
    "**應配對出的結果為**\n",
    "```\n",
    "h1\n",
    "a\n",
    "div\n",
    "a\n",
    "```"
   ]
  },
  {
   "cell_type": "code",
   "execution_count": 114,
   "metadata": {},
   "outputs": [
    {
     "data": {
      "text/plain": [
       "['h1', 'a', 'div', 'a']"
      ]
     },
     "execution_count": 114,
     "metadata": {},
     "output_type": "execute_result"
    }
   ],
   "source": [
    "str_data = \"<h1>This is a header 1</h1> <a>This is a hyperlink</a> <div class='test'>This is a text block</div> \\\n",
    "<a href='https://regexisfun.com.tw/'>Learning Regular Expression</a>\"\n",
    "\n",
    "pattern = '(?<=<)[^\\/]\\w*'\n",
    "re.findall(pattern, str_data)"
   ]
  },
  {
   "cell_type": "markdown",
   "metadata": {},
   "source": [
    "### HW5: 特定檔案名稱與格式配對\n",
    "\n",
    "在所有檔案中，抓出屬於 gif 或 jpg 的檔名。\n",
    "\n",
    "\n",
    "**所需配對文本:**\n",
    "```\n",
    ".bash_profile\n",
    "workShop.ai\n",
    "file_folderName_num.jpg\n",
    "favicon.png\n",
    "IMG_002.png\n",
    "IMG_003.gif\n",
    "qoo.jpg.tmp\n",
    "index.html\n",
    "foobar.bmp\n",
    "foobar.jpg\n",
    "account.html\n",
    "access.lock\n",
    "```\n",
    "\n",
    "**應配對出的結果為**\n",
    "```\n",
    "IMG_003.gif\n",
    "file_folderName_num.jpg\n",
    "foobar.jpg\n",
    "```"
   ]
  },
  {
   "cell_type": "code",
   "execution_count": 122,
   "metadata": {},
   "outputs": [
    {
     "data": {
      "text/plain": [
       "['file_folderName_num.jpg', 'IMG_003.gif', 'qoo.jpg', 'foobar.jpg']"
      ]
     },
     "execution_count": 122,
     "metadata": {},
     "output_type": "execute_result"
    }
   ],
   "source": [
    "str_data = '.bash_profile workShop.ai file_folderName_num.jpg favicon.png IMG_002.png IMG_003.gif qoo.jpg.tmp \\\n",
    "index.html foobar.bmp foobar.jpg account.html access.lock'\n",
    "pattern = '\\w*\\.jpg|\\w*\\.gif'  #'\\w*\\.(jpg|gif)'\n",
    "re.findall(pattern, str_data)"
   ]
  },
  {
   "cell_type": "markdown",
   "metadata": {},
   "source": [
    "### HW6: URL配對\n",
    "\n",
    "請抓出 Url 中的協定方式, 網址, 與埠\n",
    "\n",
    "```\n",
    "ex: Https://localhost:4200/ --> 抓取 Https, localhost, 4200\n",
    "```\n",
    "\n",
    "**所需配對文本:**\n",
    "```\n",
    "ftp://file_server.com:21/account/customers.xml\n",
    "https://hengxiuxu.blogspot.tw/\n",
    "file://localhost:4200\n",
    "https://s3cur3-server.com:9999/\n",
    "```\n",
    "\n",
    "**應配對出的結果為**\n",
    "```\n",
    "ftp, file_server, 21\n",
    "https, hengxiuxu.blogspot.tw\n",
    "file, localhost, 4200\n",
    "https, s3cur3-server.com, 9999\n",
    "```"
   ]
  },
  {
   "cell_type": "code",
   "execution_count": 131,
   "metadata": {},
   "outputs": [
    {
     "data": {
      "text/plain": [
       "['ftp',\n",
       " 'file_server.com',\n",
       " '21',\n",
       " 'https',\n",
       " 'hengxiuxu.blogspot.tw',\n",
       " 'file',\n",
       " 'localhost',\n",
       " '4200',\n",
       " 'https',\n",
       " 's3cur3-server.com',\n",
       " '9999']"
      ]
     },
     "execution_count": 131,
     "metadata": {},
     "output_type": "execute_result"
    }
   ],
   "source": [
    "str_data = 'ftp://file_server.com:21/account/customers.xml https://hengxiuxu.blogspot.tw/ file://localhost:4200 \\\n",
    "https://s3cur3-server.com:9999/'\n",
    "pattern = 'ftp(?=:)|https(?=:)|file(?=:)|(?<=:\\/\\/)[\\w\\.-]+[^:\\/]|\\d+'\n",
    "re.findall(pattern, str_data)"
   ]
  }
 ],
 "metadata": {
  "kernelspec": {
   "display_name": "Python 3",
   "language": "python",
   "name": "python3"
  },
  "language_info": {
   "codemirror_mode": {
    "name": "ipython",
    "version": 3
   },
   "file_extension": ".py",
   "mimetype": "text/x-python",
   "name": "python",
   "nbconvert_exporter": "python",
   "pygments_lexer": "ipython3",
   "version": "3.6.9"
  }
 },
 "nbformat": 4,
 "nbformat_minor": 2
}
